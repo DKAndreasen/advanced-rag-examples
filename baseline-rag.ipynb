{
 "cells": [
  {
   "cell_type": "markdown",
   "id": "fcba9c38-ce3e-486a-8d3a-96e3a37b70ea",
   "metadata": {},
   "source": [
    "# Baseline RAG example\n",
    "\n",
    "This is a simple example of a baseline RAG application which purpose is to answer questions about the fantasy series [Malazan Universe](https://malazan.fandom.com/wiki/Malazan_Wiki) created by Steven Erikson and Ian C. Esslemont.\n",
    "\n",
    "First the example will show each step of a baseline RAG pipeline including **Indexing**, **Retrieval** and **Generation**. This is done in order to show the architecture without the abstraction provided by frameworks like LlamaIndex and LangChain.\n",
    "Then a more \"normal\" example will be shown using LlamaIndex.\n",
    "\n",
    "As a vector database, we will use [ChromaDB](https://docs.trychroma.com/), but this can easily be exchanged with other databases.\n",
    "\n",
    "In this example, we will use the following technologies\n",
    "\n",
    "- OpenAI API\n",
    "- ChromaDB\n",
    "- LlamaIndex\n"
   ]
  },
  {
   "cell_type": "markdown",
   "id": "ae217db9-221f-4811-9101-c87d3db2c821",
   "metadata": {},
   "source": [
    "### Setup libraries and environment\n"
   ]
  },
  {
   "cell_type": "code",
   "execution_count": null,
   "id": "8edf740a",
   "metadata": {},
   "outputs": [],
   "source": [
    "%pip install chromadb llama-index-vector-stores-chroma"
   ]
  },
  {
   "cell_type": "code",
   "execution_count": 14,
   "id": "d7a26f5a-d799-4b80-93e5-60579a74852e",
   "metadata": {},
   "outputs": [],
   "source": [
    "import os\n",
    "\n",
    "import chromadb\n",
    "import chromadb.utils.embedding_functions as embedding_functions\n",
    "from chromadb import Settings\n",
    "from IPython.display import Markdown, display\n",
    "from llama_index.core import PromptTemplate, SimpleDirectoryReader\n",
    "from llama_index.core.node_parser import SentenceSplitter\n",
    "from openai import OpenAI\n",
    "\n",
    "from util.helpers import create_and_save_md_files, get_malazan_pages"
   ]
  },
  {
   "cell_type": "markdown",
   "id": "772c0dca-fd51-4348-9ada-8ca12d0139bc",
   "metadata": {},
   "source": [
    "### Environment variables\n",
    "\n",
    "For this example you need to use an OpenAI API key. Go to [your API keys](https://platform.openai.com/api-keys) in the OpenAI console to generate one.\n",
    "\n",
    "Then add the following to a `.env` file in the root of the project.\n",
    "\n",
    "```\n",
    "OPENAI_API_KEY=<YOUR_KEY_HERE>\n",
    "```\n"
   ]
  },
  {
   "cell_type": "code",
   "execution_count": 2,
   "id": "79b5d76d-dae0-4cfe-b9f1-1de2477b465a",
   "metadata": {},
   "outputs": [],
   "source": [
    "from dotenv import load_dotenv\n",
    "\n",
    "load_dotenv()\n",
    "OPENAI_API_KEY = os.getenv(\"OPENAI_API_KEY\")"
   ]
  },
  {
   "cell_type": "code",
   "execution_count": 3,
   "id": "1224aade",
   "metadata": {},
   "outputs": [],
   "source": [
    "openai_client = OpenAI(api_key=OPENAI_API_KEY)\n",
    "openai_ef = embedding_functions.OpenAIEmbeddingFunction(\n",
    "    api_key=OPENAI_API_KEY,\n",
    "    model_name=\"text-embedding-3-small\"\n",
    ")\n",
    "\n",
    "chroma_client = chromadb.PersistentClient(\n",
    "    path=\"./data/baseline-rag/chromadb\", settings=Settings(allow_reset=True))"
   ]
  },
  {
   "cell_type": "markdown",
   "id": "c7f0eacc-5118-4dbb-a22f-63769c527184",
   "metadata": {},
   "source": [
    "## Fetch documents and save them as markdown files\n",
    "\n",
    "Here we fetch pages from the Fandom Malazan Wiki. These are the documents that we will use as our \"knowledge base\" in order to supply context to our prompts.\n",
    "\n",
    "We also pre-process the content in order to be able to add them to our vector database.\n"
   ]
  },
  {
   "cell_type": "code",
   "execution_count": 4,
   "id": "a72c1c81-1257-4e99-b252-f3315b868b0a",
   "metadata": {},
   "outputs": [],
   "source": [
    "pages = get_malazan_pages()\n",
    "create_and_save_md_files(pages)"
   ]
  },
  {
   "cell_type": "markdown",
   "id": "5ae6f25f-66b0-4acb-8503-1b00c2868c20",
   "metadata": {},
   "source": [
    "## Indexing\n",
    "\n",
    "In this step, we will index the documents in our vector database. This will allow us to retrieve the most relevant documents when we ask a question.\n",
    "\n",
    "We will use ChromaDB as our vector database and 'text-embedding-3-small' from OpenAI as our embedding model.\n"
   ]
  },
  {
   "cell_type": "markdown",
   "id": "f8534742",
   "metadata": {},
   "source": [
    "#### Fetch and process saved documents\n",
    "\n",
    "First we need to fetch the documents we saved earlier.\n",
    "\n",
    "Then we will process the documents in order to add them to our vector database.\n",
    "The `SimpleDirectoryReader` fetches each section of the markdown file\n",
    "Then each section is split in to smaller chunks of text and each chunk is embedded using the OpenAI API.\n"
   ]
  },
  {
   "cell_type": "code",
   "execution_count": 5,
   "id": "add2504e",
   "metadata": {},
   "outputs": [],
   "source": [
    "documents = SimpleDirectoryReader('./data/docs').load_data()\n",
    "text_splitter = SentenceSplitter(chunk_size=512, chunk_overlap=20)\n",
    "\n",
    "document_data = []\n",
    "\n",
    "for document in documents:\n",
    "    chunks = text_splitter.split_text(document.text)\n",
    "    for idx, chunk in enumerate(chunks):\n",
    "        embedding = openai_client.embeddings.create(\n",
    "            input=chunk, model=\"text-embedding-3-small\")\n",
    "        document_data.append({\n",
    "            \"id\": f\"{document.id_}-{idx}\",\n",
    "            \"text\": chunk,\n",
    "            \"metadata\": document.metadata,\n",
    "            \"embedding\": embedding.data[0].embedding\n",
    "        })"
   ]
  },
  {
   "cell_type": "markdown",
   "id": "1f9e5fcc",
   "metadata": {},
   "source": [
    "#### Add documents to ChromaDB\n"
   ]
  },
  {
   "cell_type": "code",
   "execution_count": 6,
   "id": "69311d65",
   "metadata": {},
   "outputs": [],
   "source": [
    "documents = [doc[\"text\"] for doc in document_data]\n",
    "embeddings = [doc[\"embedding\"] for doc in document_data]\n",
    "metadatas = [doc[\"metadata\"] for doc in document_data]\n",
    "ids = [doc[\"id\"] for doc in document_data]"
   ]
  },
  {
   "cell_type": "code",
   "execution_count": 7,
   "id": "b9d947dc",
   "metadata": {},
   "outputs": [],
   "source": [
    "chroma_client.reset()\n",
    "collection = chroma_client.get_or_create_collection(\n",
    "    name=\"malazan\", metadata={\"hnsw:space\": \"cosine\"}, embedding_function=openai_ef)"
   ]
  },
  {
   "cell_type": "code",
   "execution_count": 8,
   "id": "d806a863",
   "metadata": {},
   "outputs": [],
   "source": [
    "collection.add(\n",
    "    embeddings=embeddings,\n",
    "    documents=documents,\n",
    "    metadatas=metadatas,\n",
    "    ids=ids)"
   ]
  },
  {
   "cell_type": "markdown",
   "id": "026a9edc",
   "metadata": {},
   "source": [
    "## Retrieval\n",
    "\n",
    "In this step, we will retrieve the most relevant documents to a given question. We will use the vector database to retrieve the most similar documents to the question.\n",
    "\n",
    "In order to do this we will use the `text-embedding-3-small` model (**the same model used to index the documents**) from OpenAI to embed the question and then use the vector database to retrieve the most similar documents.\n",
    "\n",
    "We will retrieve the top 5 documents based on the _cosine similarity_ between the question and the documents. Other similarity metrics can be used as well like squared L2 or inner product.\n",
    "\n",
    "Change `cosine` to `l2` or `ip` when creating the collection above to try these out.\n"
   ]
  },
  {
   "cell_type": "code",
   "execution_count": 9,
   "id": "2223843a",
   "metadata": {},
   "outputs": [],
   "source": [
    "query = \"What was the titles of Anomander Rake?\""
   ]
  },
  {
   "cell_type": "code",
   "execution_count": null,
   "id": "03a7813e",
   "metadata": {},
   "outputs": [],
   "source": [
    "query = \"Who is Tayschrenn?\""
   ]
  },
  {
   "cell_type": "code",
   "execution_count": null,
   "id": "b01cf6c7",
   "metadata": {},
   "outputs": [],
   "source": [
    "query = \"What is Kurald Galain?\""
   ]
  },
  {
   "cell_type": "code",
   "execution_count": 10,
   "id": "156f5fbf",
   "metadata": {},
   "outputs": [
    {
     "data": {
      "text/markdown": [
       "------------\n",
       "\n",
       "Other names\n",
       "\r\n",
       "\r\n",
       "Anomander Rake bore a number of pseudonyms and titles.\r\n",
       "Anomandaris Irake\r\n",
       "Anomandaris Purake\r\n",
       "Anomander Dragnipurake\r\n",
       "Black-Winged Lord\r\n",
       "Blacksword\r\n",
       "First Son of Darkness\r\n",
       "Knight of Darkness\r\n",
       "Knight of High House Dark\r\n",
       "Lord of Moon's Spawn\r\n",
       "The Mane of Chaos\r\n",
       "The Rake\r\n",
       "Son of Darkness\n",
       "\n",
       "------------\n",
       "\n",
       "Anomander Rake\n",
       "\r\n",
       "\r\n",
       "\"Anomander Rake, lord of the black-skinned Tiste Andii, who has looked down on a hundred thousand winters, who has tasted the blood of dragons, who leads the last of his kind, seated in the throne of sorrow and a kingdom tragic and fey— a kingdom with no land to call its own.\"\r\n",
       "―Tattersail, upon seeing Anomander Rake for the first time\r\n",
       "Anomander Rake also known by his titles of the Lord of Moon's Spawn, Son of Darkness and Knight of Darkness was the leader of the Tiste Andii. He was said to be \"seated on the Throne of Sorrow\"; a reflection of the loss and apathy his people had suffered.\r\n",
       "Baruk described Rake as having jet-black skin, a mane which flowed silver and features, sharp as if cut from onyx. The Tiste was nearly seven feet tall and on that occasion was cloaked and wore boots. He carried the enormous two-handed sword Dragnipur on his back. There, it was \"surrounded in its own breath of preternatural darkness.\"\r\n",
       "Rake's eyes were described as multihued with a slight upward tilt and large vertical pupils. Baruk perceived them as changing colour from a deep hue of amber to grey and banded, a rainbow of colours changing depending on Rake's mood. Whilst with Baruk, Rake's eye colour was in turn green, dun, grey and black. When Paran encountered Rake, he describe their colour as a deep, cold blue which lightened to sky blue a short while later.\r\n",
       "As a mage he made use of the Elder Warren of Kurald Galain. Baruk could feel the power emanating from Rake and judged him to be more powerful than the Malazan High Mage, Tayschrenn.\r\n",
       "By the time of Gardens of the Moon, Rake disliked the title \"Son of Darkness\", saying it was used \"by those fools who think me worthy of worship.\"\n",
       "\n",
       "------------\n",
       "\n",
       "Summary\n",
       "\r\n",
       "\r\n",
       "\"Anomander Rake, lord of the black-skinned Tiste Andii, who has looked down on a hundred thousand winters, who has tasted the blood of dragons, who leads the last of his kind, seated in the throne of sorrow and a kingdom tragic and fey— a kingdom with no land to call its own.\"\n",
       "\n",
       "------------\n",
       "\n",
       "Anomander Rake and the Hounds of Shadow by Marc SimonettiAnomander Rake in Dragnipur by PuckAnomander Rake and Mother Darkness by Dejan DelicAnomander Rake and Mother Dark by Mister Adam\n",
       "\n",
       "------------\n",
       "\n",
       "History\n",
       "\r\n",
       "\r\n",
       "Spoiler warning: The following section contains significant plot details about Fall of Light and Toll the Hounds.\r\n",
       "Anomander Purake, later named Anomander Rake by Caladan Brood, was given the title of the First Son of Darkness by Mother Dark, queen of Kharkanas and goddess of the Tiste Andii. He was a Soletaken — able to assume the form of a huge black dragon, larger even than Silanah (a true Eleint) — and a very powerful Ascendant, occupying the place of the Knight of High House Dark in the Deck of Dragons. He was also the wielder of (the sword) Vengeance/Grief, and of the dangerous and powerful Dragnipur, which was forged by his friend Draconus — on whom he ultimately turned his own creation, thereby fulfilling Kallor's curse.\r\n",
       "He was widely recognised — by many Ascendants, gods and Elder Gods — as one of the most powerful, unpredictable and ruthless figures in the World, especially since he was the wielder of the sword that enslaved souls.\r\n",
       "In his early years — during the events of the Kharkanas Trilogy — he seemed somewhat arrogant and rash, but in his later years — during the events of the Book of the Fallen — he was portrayed as more compassionate and wise. Rake was a man of solitude, possessing a spirit of almost pathological independence. He could be indifferent to others' need for regular reassurance or comfirmation, trusting that his word, once given, was bond enough. What Rake said he would do, he did. His thought processes were often a mystery to his own people, perhaps because of his draconic blood, but still they trusted and loved him without question.\r\n",
       "He was the son of Nimander Purake — who in his younger years was granted, by K'rul, the Azathanai honorific Purake, which came from \"Pur Rakess Calas ne A’nom\", roughly translated to \"Strength in Standing Still\" — and had two brothers, Silchas Ruin and Andarist, both given the titles the Second Son of Darkness and the Third Son of Darkness, respectively. T'riss was a one-time companion, as were Lady Envy and Caladan Brood."
      ],
      "text/plain": [
       "<IPython.core.display.Markdown object>"
      ]
     },
     "metadata": {},
     "output_type": "display_data"
    }
   ],
   "source": [
    "result = collection.query(query_texts=[query], n_results=5)\n",
    "context = result[\"documents\"][0]\n",
    "context\n",
    "display(Markdown(f\"------------\\n\\n{\"\\n\\n------------\\n\\n\".join(context)}\"))"
   ]
  },
  {
   "cell_type": "markdown",
   "id": "b3e7a6a0",
   "metadata": {},
   "source": [
    "## Generation\n",
    "\n",
    "In this step, we will generate an answer to the question using the retrieved documents as context. We will use the OpenAI API to generate the answer.\n"
   ]
  },
  {
   "cell_type": "code",
   "execution_count": 11,
   "id": "e5a1f320",
   "metadata": {},
   "outputs": [
    {
     "data": {
      "text/markdown": [
       "You are a helpful assistant that answers questions about the Malazan Fantasy Universe using provided context. \n",
       "\n",
       "Question: What was the titles of Anomander Rake?\n",
       "\n",
       "Context: \n",
       "\n",
       "-----------------------------------\n",
       "Other names\n",
       "\r\n",
       "\r\n",
       "Anomander Rake bore a number of pseudonyms and titles.\r\n",
       "Anomandaris Irake\r\n",
       "Anomandaris Purake\r\n",
       "Anomander Dragnipurake\r\n",
       "Black-Winged Lord\r\n",
       "Blacksword\r\n",
       "First Son of Darkness\r\n",
       "Knight of Darkness\r\n",
       "Knight of High House Dark\r\n",
       "Lord of Moon's Spawn\r\n",
       "The Mane of Chaos\r\n",
       "The Rake\r\n",
       "Son of Darkness\n",
       "\n",
       "Anomander Rake\n",
       "\r\n",
       "\r\n",
       "\"Anomander Rake, lord of the black-skinned Tiste Andii, who has looked down on a hundred thousand winters, who has tasted the blood of dragons, who leads the last of his kind, seated in the throne of sorrow and a kingdom tragic and fey— a kingdom with no land to call its own.\"\r\n",
       "―Tattersail, upon seeing Anomander Rake for the first time\r\n",
       "Anomander Rake also known by his titles of the Lord of Moon's Spawn, Son of Darkness and Knight of Darkness was the leader of the Tiste Andii. He was said to be \"seated on the Throne of Sorrow\"; a reflection of the loss and apathy his people had suffered.\r\n",
       "Baruk described Rake as having jet-black skin, a mane which flowed silver and features, sharp as if cut from onyx. The Tiste was nearly seven feet tall and on that occasion was cloaked and wore boots. He carried the enormous two-handed sword Dragnipur on his back. There, it was \"surrounded in its own breath of preternatural darkness.\"\r\n",
       "Rake's eyes were described as multihued with a slight upward tilt and large vertical pupils. Baruk perceived them as changing colour from a deep hue of amber to grey and banded, a rainbow of colours changing depending on Rake's mood. Whilst with Baruk, Rake's eye colour was in turn green, dun, grey and black. When Paran encountered Rake, he describe their colour as a deep, cold blue which lightened to sky blue a short while later.\r\n",
       "As a mage he made use of the Elder Warren of Kurald Galain. Baruk could feel the power emanating from Rake and judged him to be more powerful than the Malazan High Mage, Tayschrenn.\r\n",
       "By the time of Gardens of the Moon, Rake disliked the title \"Son of Darkness\", saying it was used \"by those fools who think me worthy of worship.\"\n",
       "\n",
       "Summary\n",
       "\r\n",
       "\r\n",
       "\"Anomander Rake, lord of the black-skinned Tiste Andii, who has looked down on a hundred thousand winters, who has tasted the blood of dragons, who leads the last of his kind, seated in the throne of sorrow and a kingdom tragic and fey— a kingdom with no land to call its own.\"\n",
       "\n",
       "Anomander Rake and the Hounds of Shadow by Marc SimonettiAnomander Rake in Dragnipur by PuckAnomander Rake and Mother Darkness by Dejan DelicAnomander Rake and Mother Dark by Mister Adam\n",
       "\n",
       "History\n",
       "\r\n",
       "\r\n",
       "Spoiler warning: The following section contains significant plot details about Fall of Light and Toll the Hounds.\r\n",
       "Anomander Purake, later named Anomander Rake by Caladan Brood, was given the title of the First Son of Darkness by Mother Dark, queen of Kharkanas and goddess of the Tiste Andii. He was a Soletaken — able to assume the form of a huge black dragon, larger even than Silanah (a true Eleint) — and a very powerful Ascendant, occupying the place of the Knight of High House Dark in the Deck of Dragons. He was also the wielder of (the sword) Vengeance/Grief, and of the dangerous and powerful Dragnipur, which was forged by his friend Draconus — on whom he ultimately turned his own creation, thereby fulfilling Kallor's curse.\r\n",
       "He was widely recognised — by many Ascendants, gods and Elder Gods — as one of the most powerful, unpredictable and ruthless figures in the World, especially since he was the wielder of the sword that enslaved souls.\r\n",
       "In his early years — during the events of the Kharkanas Trilogy — he seemed somewhat arrogant and rash, but in his later years — during the events of the Book of the Fallen — he was portrayed as more compassionate and wise. Rake was a man of solitude, possessing a spirit of almost pathological independence. He could be indifferent to others' need for regular reassurance or comfirmation, trusting that his word, once given, was bond enough. What Rake said he would do, he did. His thought processes were often a mystery to his own people, perhaps because of his draconic blood, but still they trusted and loved him without question.\r\n",
       "He was the son of Nimander Purake — who in his younger years was granted, by K'rul, the Azathanai honorific Purake, which came from \"Pur Rakess Calas ne A’nom\", roughly translated to \"Strength in Standing Still\" — and had two brothers, Silchas Ruin and Andarist, both given the titles the Second Son of Darkness and the Third Son of Darkness, respectively. T'riss was a one-time companion, as were Lady Envy and Caladan Brood.\n",
       "\n",
       "-----------------------------------\n",
       "\n"
      ],
      "text/plain": [
       "<IPython.core.display.Markdown object>"
      ]
     },
     "metadata": {},
     "output_type": "display_data"
    }
   ],
   "source": [
    "prompt = PromptTemplate(\"\"\"You are a helpful assistant that answers questions about the Malazan Fantasy Universe using provided context. \n",
    "\n",
    "Question: {query}\n",
    "\n",
    "Context: \n",
    "\n",
    "-----------------------------------\n",
    "{context}\n",
    "\n",
    "-----------------------------------\n",
    "\n",
    "\"\"\")\n",
    "message = prompt.format(query=query, context=\"\\n\\n\".join(context))\n",
    "display(Markdown(f\"{message}\"))"
   ]
  },
  {
   "cell_type": "code",
   "execution_count": 12,
   "id": "4d375966",
   "metadata": {},
   "outputs": [
    {
     "data": {
      "text/markdown": [
       "Anomander Rake, a key character in Steven Erikson's \"Malazan Book of the Fallen\" series, holds several titles and is known by various names throughout the series. Below are some of his prominent titles and aliases:\n",
       "\n",
       "1. **Son of Darkness** - This title refers to his position as a prominent member of the Tiste Andii, a race associated with darkness.\n",
       "2. **Knight of Darkness** - Similar to \"Son of Darkness\", this title emphasizes his role and responsibilities among the Tiste Andii.\n",
       "3. **Lord of Moon's Spawn** - Refers to his command over the floating fortress Moon's Spawn, which is often involved in pivotal battles in the series.\n",
       "4. **Mane of Chaos** - A title that highlights his connection and contributions to the greater forces of Chaos within the Malazan universe.\n",
       "\n",
       "Anomander Rake is also referred to by his real name, Anomandaris Irake, and is a complex character central to many events and story arcs in Erikson's expansive epic. His possession of the sword Dragnipur, which imprisons the souls of those it kills, adds to his formidable and mythical stature in the series."
      ],
      "text/plain": [
       "<IPython.core.display.Markdown object>"
      ]
     },
     "metadata": {},
     "output_type": "display_data"
    }
   ],
   "source": [
    "stream = openai_client.chat.completions.create(\n",
    "    messages=[{\"role\": \"user\", \"content\": query}],\n",
    "    model=\"gpt-4-turbo\",\n",
    "    stream=True)\n",
    "\n",
    "output = \"\"\n",
    "for chunk in stream:\n",
    "    output += chunk.choices[0].delta.content or \"\"\n",
    "    display(Markdown(f\"{output}\"), clear=True)"
   ]
  },
  {
   "cell_type": "code",
   "execution_count": null,
   "id": "cffca2b1",
   "metadata": {},
   "outputs": [],
   "source": [
    "stream = openai_client.chat.completions.create(\n",
    "    messages=[{\"role\": \"user\", \"content\": message}],\n",
    "    model=\"gpt-4-turbo\",\n",
    "    stream=True)\n",
    "\n",
    "output = \"\"\n",
    "for chunk in stream:\n",
    "    output += chunk.choices[0].delta.content or \"\"\n",
    "    display(Markdown(f\"{output}\"), clear=True)"
   ]
  },
  {
   "cell_type": "markdown",
   "id": "2e1fad80",
   "metadata": {},
   "source": [
    "## Normal example using LlamaIndex\n",
    "\n",
    "In this example, we will use LlamaIndex to abstract the indexing and retrieval steps. This shows how easily the same pipeline can be implemented using LlamaIndex.\n"
   ]
  },
  {
   "cell_type": "code",
   "execution_count": null,
   "id": "356930ca",
   "metadata": {},
   "outputs": [],
   "source": [
    "import chromadb\n",
    "from chromadb import Settings\n",
    "from llama_index.llms.openai import OpenAI\n",
    "from llama_index.core import SimpleDirectoryReader, VectorStoreIndex\n",
    "from llama_index.core.node_parser import SentenceSplitter\n",
    "from llama_index.core.ingestion import IngestionPipeline\n",
    "from llama_index.embeddings.openai import OpenAIEmbedding\n",
    "from llama_index.vector_stores.chroma import ChromaVectorStore\n",
    "\n",
    "# ChromaDB Vector Store\n",
    "chroma_client = chromadb.PersistentClient(\n",
    "    path=\"./data/baseline-rag/chromadb\", settings=Settings(allow_reset=True))\n",
    "chroma_client.reset()\n",
    "collection = chroma_client.get_or_create_collection(\n",
    "    name=\"malazan\", metadata={\"hnsw:space\": \"cosine\"})\n",
    "vector_store = ChromaVectorStore(chroma_collection=collection)\n",
    "\n",
    "# OpenAI Embedding and LLM\n",
    "embedding = OpenAIEmbedding(api_key=OPENAI_API_KEY,\n",
    "                            model=\"text-embedding-3-small\")\n",
    "llm = OpenAI(api_key=OPENAI_API_KEY, model=\"gpt-4-turbo\")\n",
    "\n",
    "# Define the ingestion pipeline to add documents to vector store\n",
    "pipeline = IngestionPipeline(\n",
    "    transformations=[\n",
    "        SentenceSplitter(chunk_size=512, chunk_overlap=20),\n",
    "        embedding,\n",
    "    ],\n",
    "    vector_store=vector_store,\n",
    ")\n",
    "\n",
    "# Create index with the vector store and using the embedding model\n",
    "index = VectorStoreIndex.from_vector_store(\n",
    "    vector_store=vector_store, embed_model=embedding)"
   ]
  },
  {
   "cell_type": "code",
   "execution_count": null,
   "id": "58348922",
   "metadata": {},
   "outputs": [],
   "source": [
    "# Fetch documents\n",
    "documents = SimpleDirectoryReader('./data/docs').load_data()\n",
    "\n",
    "# Run pipeline\n",
    "pipeline.run(documents=documents)"
   ]
  },
  {
   "cell_type": "markdown",
   "id": "1afa9720",
   "metadata": {},
   "source": [
    "#### Create base QueryEngine from LlamaIndex\n"
   ]
  },
  {
   "cell_type": "code",
   "execution_count": null,
   "id": "79604a28",
   "metadata": {},
   "outputs": [],
   "source": [
    "query_engine = index.as_query_engine(llm=llm, verbose=True)"
   ]
  },
  {
   "cell_type": "markdown",
   "id": "a3f4a4ed",
   "metadata": {},
   "source": [
    "#### Or alternatively, create a CustomQueryEngine\n"
   ]
  },
  {
   "cell_type": "code",
   "execution_count": null,
   "id": "f9f60384",
   "metadata": {},
   "outputs": [],
   "source": [
    "from llama_index.core import PromptTemplate\n",
    "from llama_index.core.query_engine import CustomQueryEngine\n",
    "from llama_index.core.retrievers import BaseRetriever\n",
    "from llama_index.core import get_response_synthesizer\n",
    "from llama_index.core.response_synthesizers import BaseSynthesizer\n",
    "\n",
    "qa_prompt = PromptTemplate(\n",
    "    \"\"\"You are a helpful assistant that answers questions about the Malazan Fantasy Universe using provided context.\n",
    "    Context information is below.\n",
    "    ---------------------\n",
    "    {context_str}\n",
    "    ---------------------\n",
    "    Given the context information and not prior knowledge, answer the query.\n",
    "    Query: {query_str}\n",
    "    Answer: \n",
    "    \"\"\",\n",
    ")\n",
    "\n",
    "\n",
    "class RAGQueryEngine(CustomQueryEngine):\n",
    "    \"\"\"RAG String Query Engine.\"\"\"\n",
    "\n",
    "    retriever: BaseRetriever\n",
    "    response_synthesizer: BaseSynthesizer\n",
    "    llm: OpenAI\n",
    "    qa_prompt: PromptTemplate\n",
    "\n",
    "    def custom_query(self, query_str: str):\n",
    "        nodes = self.retriever.retrieve(query_str)\n",
    "        context_str = \"\\n\\n\".join([n.node.get_content() for n in nodes])\n",
    "        print(\"Prompt:\\n\\n\", qa_prompt.format(\n",
    "            context_str=context_str, query_str=query_str))\n",
    "        response = self.llm.complete(\n",
    "            qa_prompt.format(context_str=context_str, query_str=query_str)\n",
    "        )\n",
    "\n",
    "        return str(response)\n",
    "\n",
    "\n",
    "synthesizer = get_response_synthesizer(response_mode=\"compact\")\n",
    "query_engine = RAGQueryEngine(\n",
    "    retriever=index.as_retriever(),\n",
    "    response_synthesizer=synthesizer,\n",
    "    llm=llm,\n",
    "    qa_prompt=qa_prompt,\n",
    ")"
   ]
  },
  {
   "cell_type": "code",
   "execution_count": null,
   "id": "ab9d8ae2",
   "metadata": {},
   "outputs": [],
   "source": [
    "response = query_engine.query(query)\n",
    "display(Markdown(f\"{response}\"))"
   ]
  },
  {
   "cell_type": "markdown",
   "id": "7ce99b7d",
   "metadata": {},
   "source": [
    "## Simplest RAG implementation using LlamaIndex\n"
   ]
  },
  {
   "cell_type": "code",
   "execution_count": 15,
   "id": "cceb724b",
   "metadata": {},
   "outputs": [
    {
     "data": {
      "text/markdown": [
       "Anomander Rake's titles included Lord of Moon's Spawn, Son of Darkness, Knight of Darkness, Black-Winged Lord, Blacksword, First Son of Darkness, Knight of High House Dark, The Mane of Chaos, The Rake, and Anomandaris Irake, Anomandaris Purake, Anomander Dragnipurake."
      ],
      "text/plain": [
       "<IPython.core.display.Markdown object>"
      ]
     },
     "metadata": {},
     "output_type": "display_data"
    }
   ],
   "source": [
    "# Fetch documents\n",
    "documents = SimpleDirectoryReader('./data/docs').load_data()\n",
    "\n",
    "# build VectorStoreIndex that takes care of chunking documents\n",
    "# and encoding chunks to embeddings for future retrieval\n",
    "index = VectorStoreIndex.from_documents(documents=documents)\n",
    "\n",
    "# The QueryEngine class is equipped with the generator\n",
    "# and facilitates the retrieval and generation steps\n",
    "query_engine = index.as_query_engine()\n",
    "\n",
    "# Use your Default RAG\n",
    "response = query_engine.query(query)\n",
    "display(Markdown(f\"{response}\"))"
   ]
  }
 ],
 "metadata": {
  "kernelspec": {
   "display_name": "Python 3 (ipykernel)",
   "language": "python",
   "name": "python3"
  },
  "language_info": {
   "codemirror_mode": {
    "name": "ipython",
    "version": 3
   },
   "file_extension": ".py",
   "mimetype": "text/x-python",
   "name": "python",
   "nbconvert_exporter": "python",
   "pygments_lexer": "ipython3",
   "version": "3.12.3"
  }
 },
 "nbformat": 4,
 "nbformat_minor": 5
}
