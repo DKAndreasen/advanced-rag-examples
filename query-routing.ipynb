{
 "cells": [
  {
   "cell_type": "markdown",
   "metadata": {},
   "source": [
    "# Query Routing\n",
    "\n",
    "Sometimes its not possible to have all information in a single data source. Maybe your pipeline should be able to handle many different queries, or maybe you have a lot of data and you want to split it into different sources to make it easier find the retrieve the right documents.\n",
    "\n",
    "Imagine that you have to be able to answer questions about the current weather, but you also want to be able to answer questions about geography. Or you want to be able to limit the search space to search for different categories of documents.\n",
    "\n",
    "In these cases you can use **Query routing** to dynamically select the right data source to answer the query or search use multiple data sources to answer the query. On way to achieve this is to use the decision making capabilities of LLMs to decide on the fly where to retrieve data from."
   ]
  },
  {
   "cell_type": "markdown",
   "metadata": {},
   "source": [
    "## Setup libraries and environment"
   ]
  },
  {
   "cell_type": "code",
   "execution_count": null,
   "metadata": {},
   "outputs": [],
   "source": [
    "%pip install python-dotenv\n",
    "%pip install python-weather=2.0.3\n",
    "%pip install llama-index==0.10.33\n",
    "%pip install llama-index-llms-openai==0.1.16\n",
    "%pip install pydantic"
   ]
  },
  {
   "cell_type": "code",
   "execution_count": null,
   "metadata": {},
   "outputs": [],
   "source": [
    "import os\n",
    "\n",
    "from typing import Optional\n",
    "from dotenv import load_dotenv\n",
    "from util.helpers import get_weather, get_wiki_pages, create_and_save_wiki_md_files\n",
    "\n",
    "from llama_index.core.query_engine import RouterQueryEngine, CustomQueryEngine\n",
    "from llama_index.core.selectors import LLMMultiSelector, LLMSingleSelector\n",
    "from llama_index.core.tools import FunctionTool , QueryEngineTool\n",
    "from llama_index.core import SimpleDirectoryReader, VectorStoreIndex, PromptTemplate\n",
    "from llama_index.llms.openai import OpenAI"
   ]
  },
  {
   "cell_type": "code",
   "execution_count": null,
   "metadata": {},
   "outputs": [],
   "source": [
    "# NOTE: This is ONLY necessary in jupyter notebook.\n",
    "# Details: Jupyter runs an event-loop behind the scenes.\n",
    "#          This results in nested event-loops when we start an event-loop to make async queries.\n",
    "#          This is normally not allowed, we use nest_asyncio to allow it for convenience.\n",
    "import nest_asyncio\n",
    "nest_asyncio.apply()"
   ]
  },
  {
   "cell_type": "code",
   "execution_count": null,
   "metadata": {},
   "outputs": [],
   "source": [
    "load_dotenv()\n",
    "OPENAI_API_KEY = os.getenv(\"OPENAI_API_KEY\")"
   ]
  },
  {
   "cell_type": "markdown",
   "metadata": {},
   "source": [
    "## Example with `RouterQueryEngine`\n",
    "\n",
    "In the following example we build a `RouterQueryEngine` that will decide on the fly which data source to use to answer the query. We will have two data sources: \n",
    "\n",
    "- **Weather data source** - Query engine that can answer questions using todays weather forecast\n",
    "- **Wiki pages for cities data source** - Query engine that can answer questions using wikipedia pages for cities\n",
    "\n",
    "The `RouterQueryEngine` will use a LLM to decide which data source to use to answer the query. We use the `LLMMultiSelector` to allow the LLM to select multiple datasources if it needs to."
   ]
  },
  {
   "cell_type": "markdown",
   "metadata": {},
   "source": [
    "#### Define custom `WeatherQueryEngine` "
   ]
  },
  {
   "cell_type": "code",
   "execution_count": null,
   "metadata": {},
   "outputs": [],
   "source": [
    "class WeatherQueryEngine(CustomQueryEngine):\n",
    "    llm: Optional[OpenAI] = OpenAI(api_key=OPENAI_API_KEY, model=\"gpt-4-turbo\")\n",
    "\n",
    "    def custom_query(self, query_str: str) -> str:\n",
    "        return \"Not implemented yet.\"\n",
    "\n",
    "    async def acustom_query(self, query_str: str) -> str:\n",
    "        cities_prompt = PromptTemplate(\n",
    "            \"\"\"Given the following query make a comma separated listof  the cities mentioned in it\n",
    "        Query: {query_str}\n",
    "        Cities:\"\"\"\n",
    "        )\n",
    "        cities = self.llm.complete(cities_prompt.format(query_str=query_str))\n",
    "\n",
    "        context = [await get_weather(city) for city in str(cities).split(\",\")]\n",
    "\n",
    "        res_prompt = PromptTemplate(\n",
    "            \"\"\"You're a helpful assistant that helps answer questions using weather forecasts as context\n",
    "        Question: {query_str}\n",
    "        \n",
    "        Forecasts: {context}\n",
    "        \n",
    "        Answer:\"\"\",\n",
    "        )\n",
    "        res = self.llm.complete(\n",
    "            res_prompt.format(context=\"\\n\".join(context), query_str=query_str)\n",
    "        )\n",
    "        return str(res)\n",
    "\n",
    "\n",
    "weather_query_engine = WeatherQueryEngine()"
   ]
  },
  {
   "cell_type": "markdown",
   "metadata": {},
   "source": [
    "#### Define query engine for Wiki pages for cities"
   ]
  },
  {
   "cell_type": "code",
   "execution_count": null,
   "metadata": {},
   "outputs": [],
   "source": [
    "cities_pages = get_wiki_pages(\n",
    "    [\n",
    "        \"Aarhus\",\n",
    "        \"London\",\n",
    "        \"Paris\",\n",
    "        \"Berlin\",\n",
    "        \"Tokyo\",\n",
    "        \"Beijing\",\n",
    "        \"Moscow\",\n",
    "        \"Sydney\",\n",
    "    ]\n",
    ")"
   ]
  },
  {
   "cell_type": "code",
   "execution_count": null,
   "metadata": {},
   "outputs": [],
   "source": [
    "create_and_save_wiki_md_files(cities_pages, path=\"./data/docs/cities/\")\n",
    "cities_documents = SimpleDirectoryReader(\"./data/docs/cities\").load_data()\n",
    "cities_index = VectorStoreIndex.from_documents(cities_documents)"
   ]
  },
  {
   "cell_type": "markdown",
   "metadata": {},
   "source": [
    "#### Define `RouterQueryEngine`"
   ]
  },
  {
   "cell_type": "code",
   "execution_count": null,
   "metadata": {},
   "outputs": [],
   "source": [
    "weather_tool = QueryEngineTool.from_defaults(\n",
    "    query_engine=weather_query_engine,\n",
    "    description=\"Useful for getting todays weather forecast for a given city\",\n",
    ")\n",
    "cities_tool = QueryEngineTool.from_defaults(\n",
    "    query_engine=cities_index.as_query_engine(),\n",
    "    name=\"Cities Wiki Pages\",\n",
    "    description=\"Useful for getting information about cities\",\n",
    ")\n",
    "\n",
    "llm = OpenAI(api_key=OPENAI_API_KEY, model=\"gpt-4-turbo\")\n",
    "query_engine = RouterQueryEngine(\n",
    "    selector=LLMMultiSelector.from_defaults(llm=llm),\n",
    "    llm=llm,\n",
    "    verbose=True,\n",
    "    query_engine_tools=[\n",
    "        weather_tool,\n",
    "        cities_tool,\n",
    "    ],\n",
    ")"
   ]
  },
  {
   "cell_type": "markdown",
   "metadata": {},
   "source": [
    "The following is the prompt used by the selector:"
   ]
  },
  {
   "cell_type": "code",
   "execution_count": null,
   "metadata": {},
   "outputs": [],
   "source": [
    "DEFAULT_MULTI_SELECT_PROMPT_TMPL = (\n",
    "    \"Some choices are given below. It is provided in a numbered list (1 to {num_choices}), \"\n",
    "    \"where each item in the list corresponds to a summary.\\n\"\n",
    "    \"---------------------\\n\"\n",
    "    \"{context_list}\"\n",
    "    \"\\n---------------------\\n\"\n",
    "    \"Using only the choices above and not prior knowledge, return the top choices \"\n",
    "    \"(no more than {max_outputs}, but only select what is needed) that \"\n",
    "    \"are most relevant to the question: '{query_str}'\\n\"\n",
    ")"
   ]
  },
  {
   "cell_type": "code",
   "execution_count": 58,
   "metadata": {},
   "outputs": [
    {
     "name": "stdout",
     "output_type": "stream",
     "text": [
      "\u001b[1;3;38;5;200mSelecting query engine 0: This choice is relevant because knowing today's weather forecast for Aarhus can help determine the best time to go running based on weather conditions..\n",
      "\u001b[0mTo choose the best time for running in Aarhus today, considering the weather conditions, it would be ideal to go when the temperature is comfortable and there is minimal chance of rain. According to the forecast, the early morning hours show no rain and moderate temperatures. Specifically, the times from 00:00 to 06:00 have 0% chance of rain with temperatures ranging from 9°C to 11°C and relatively low cloud cover.\n",
      "\n",
      "Therefore, the best time to go running in Aarhus today would be between 03:00 and 06:00, when the temperature is around 9°C to 10°C, which is cool and comfortable for running, and there is no rain expected.\n"
     ]
    }
   ],
   "source": [
    "response = await query_engine.aquery(\"At what time should I go running today in Aarhus?\")\n",
    "print(str(response))"
   ]
  },
  {
   "cell_type": "code",
   "execution_count": 59,
   "metadata": {},
   "outputs": [
    {
     "name": "stdout",
     "output_type": "stream",
     "text": [
      "\u001b[1;3;38;5;200mSelecting query engine 1: This choice is relevant because it involves getting information about cities, which would include details about sights and attractions in a specific city like Aarhus..\n",
      "\u001b[0mThe best sights to see in Aarhus include the ARoS Art Museum, the Old Town Museum (Den Gamle By), Tivoli Friheden, Moesgård Museum, Kvindemuseet, and the various festivals like NorthSide and SPOT. These attractions, along with the city's extensive shopping facilities, make Aarhus a popular destination for tourists.\n"
     ]
    }
   ],
   "source": [
    "response = await query_engine.aquery(\"What are the best sights to see in Aarhus?\")\n",
    "print(str(response))"
   ]
  },
  {
   "cell_type": "code",
   "execution_count": 60,
   "metadata": {},
   "outputs": [
    {
     "name": "stdout",
     "output_type": "stream",
     "text": [
      "\u001b[1;3;38;5;200mSelecting query engine 0: This choice is relevant because it provides today's weather forecast for a given city, which is necessary to determine the best time to visit sights in Aarhus..\n",
      "\u001b[0m\u001b[1;3;38;5;200mSelecting query engine 1: This choice is relevant as it provides information about cities, which can include details on the best sights to see in Aarhus..\n",
      "\u001b[0mThe best sights to see in Aarhus include the ARoS Art Museum, the Old Town (Den Gamle By), Moesgaard Museum, Aarhus Botanical Gardens, and the Latin Quarter. For the best experience considering the weather, it is advisable to visit these attractions early in the morning before 09:00 AM on May 5, 2024, especially the outdoor locations like the Old Town, Moesgaard Museum, the Botanical Gardens, and the Latin Quarter, to avoid the rain forecasted to start at noon. The ARoS Art Museum, being an indoor venue, can be visited any time during the day, but an early morning visit is recommended to avoid the heavier rain expected later.\n"
     ]
    }
   ],
   "source": [
    "response = await query_engine.aquery(\n",
    "    \"What are the best sights to see in Aarhus and at what time is it best to go there with regards to weather?\"\n",
    "    )\n",
    "print(str(response))"
   ]
  }
 ],
 "metadata": {
  "kernelspec": {
   "display_name": "Python 3",
   "language": "python",
   "name": "python3"
  },
  "language_info": {
   "codemirror_mode": {
    "name": "ipython",
    "version": 3
   },
   "file_extension": ".py",
   "mimetype": "text/x-python",
   "name": "python",
   "nbconvert_exporter": "python",
   "pygments_lexer": "ipython3",
   "version": "3.12.3"
  }
 },
 "nbformat": 4,
 "nbformat_minor": 2
}
