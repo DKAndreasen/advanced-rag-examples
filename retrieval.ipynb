{
 "cells": [
  {
   "cell_type": "markdown",
   "metadata": {},
   "source": [
    "# Retrieval\n",
    "\n",
    "TODO\n",
    "\n",
    "- **Iterative Retrieval** - TODO\n",
    "- **Recursive-Retrieval** - TODO\n",
    "- **Generator-Enhanced Retrieval** - TODO\n",
    "- **GraphRAG** - Retrieval using Knowledge Graphs"
   ]
  },
  {
   "cell_type": "code",
   "execution_count": null,
   "metadata": {},
   "outputs": [],
   "source": []
  }
 ],
 "metadata": {
  "language_info": {
   "name": "python"
  }
 },
 "nbformat": 4,
 "nbformat_minor": 2
}
